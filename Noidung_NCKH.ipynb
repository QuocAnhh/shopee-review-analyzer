{
 "cells": [
  {
   "cell_type": "markdown",
   "metadata": {},
   "source": [
    "# NỘI DUNG XÂY DỰNG HỆ THỐNG ĐÁNH GIÁ SẢN PHẨM TỪ CÁC BÌNH LUẬN NGƯỜI DÙNG TRÊN SHOPEE BẰNG NLP\n",
    "---\n",
    "**Thông tin sinh viên:**\n",
    "1. Mã Sinh viên: 2221050174\n",
    "2. Họ tên SV: Đinh Thị Trang\n",
    "3. Ngày sinh: 17/07/2003\n",
    "3. Lớp: DCCTKH67A\n",
    "---\n"
   ]
  },
  {
   "cell_type": "markdown",
   "metadata": {},
   "source": [
    "## 1. NLP và bài toán phân lớp văn bản\n",
    "---\n",
    "* Xử lý ngôn ngữ tự nhiên – NLP (Natural Language Processing) là một trong những lĩnh vực quan trọng của trí tuệ nhân tạo. Rất nhiều ứng dụng của NLP đã, đang và ngày càng có ảnh hưởng sâu rộng tới mọi mặt của đời sống con người\n",
    "* NLP là một lĩnh vực khoa học máy tính, kỹ thuật thông tin và trí tuệ nhân tạo tập trung vào nghiên cứu các tương tác về mặt ngôn ngữ giữa máy tính và con người, cụ thể hơn là làm thế nào để lập trình cho máy tính xử lý và phân tích một lượng lớn dữ liệu ngôn ngữ tự nhiên.\n",
    "* Một số ứng dụng quan trọng của NLP:\n",
    "    1. Các hệ thống máy dịch;\n",
    "    2. Ứng dụng trong xử lý văn bản và ngôn ngữ;\n",
    "    3. Ứng dụng trong tóm tắt và phân loại văn bản,\n",
    "    4. Hệ thống chatbot; trợ lý ảo.\n",
    "    5. Tổng đài tự động (ACC)….\n",
    "* Trong các ứng dụng của NLP, bài toán phân lớp văn bản là một trong những bài toán quan trọng và kinh điển nhất.\n",
    "* Mục tiêu của một hệ thống phân lớp văn bản là nó có thể tự động phân lớp một văn bản cho trước, để xác định xem văn bản đó thuộc lớp nào.\n",
    "* Các ứng dụng của phân lớp văn bản rất đa dạng như: Hiểu được ý nghĩa, đánh giá, bình luận của người dùng; Lọc email rác; Phân tích cảm xúc; Phân lớp tin tức các bài báo điện tử…\n"
   ]
  },
  {
   "cell_type": "markdown",
   "metadata": {},
   "source": [
    "## 2.THUẬT TOÁN NAIVE BAYES\n",
    "---\n",
    "* Naive Bayes Classifiers (NBC)  là một trong những thuật toán tiêu biểu cho bài toán phân lớp dựa trên lý thuyết xác suất áp dụng định lý Bayes.\n",
    "\n",
    "* Định lý Bayes cho phép chúng ta có thể tính toán một xác suất chưa biết dựa vào các xác suất có điều kiện khác. Với công thức tổng quát tính xác suất của biến cố A với điều kiện biến cố Bk xảy ra trước (hay được gọi là xác suất hậu nghiệm):\n",
    "\n",
    "\n",
    "\n",
    "Trong công thức Naïve Bayes, Giả thiết các chiều dữ liệu là độc lập với nhau\n",
    "\n",
    "Có 3 loại phân bố xác suất phổ biến là:\n",
    "1. Gausian naïve bayes: sử dụng chủ yếu trong loại dữ liệu mà các thành phần là các biến liên tục. Với mỗi chiều dữ liệu I và một nhãn c, xi tuân theo một phân phối chuẩn có kỳ vọng  μ và phương sai σ\n",
    "\n",
    "2. multinomial naïve bayes: Mô hình này được sử dụng chủ yếu bài toán phân loại văn bản và vector đặc trưng được xây dựng dựa trên ý tưởng Bag of Words (BoW)!\n",
    "\n",
    "3. Bernoulli naïve bayes: Mô hình này được áp dụng cho các loại dữ liệu mà mỗi thành phần là một giá trị nhị phân (0|1).\n",
    "\n",
    "\n"
   ]
  },
  {
   "cell_type": "markdown",
   "metadata": {},
   "source": [
    "## 3. Phân loại Comment độc (TOXIC)  - không độc (NON TOXIC) sử dụng thuật toán Naive Bayes\n",
    "\n",
    "---\n",
    "Xử lý ngôn ngữ tự nhiên (natural language processing - NLP) là một nhánh của trí tuệ nhân tạo tập trung vào các ứng dụng trên ngôn ngữ của con người. Trong trí tuệ nhân tạo thì xử lý ngôn ngữ tự nhiên là một trong những phần khó nhất vì nó liên quan đến việc phải hiểu ý nghĩa ngôn ngữ-công cụ hoàn hảo nhất của tư duy và giao tiếp. (wikipedia)\n",
    "\n",
    "<img src='Pic\\Picture1.jpg'>\n",
    "\n",
    "Tập dữ liệu bao gồm 56700 comment với 2 thuộc tính (class, tweet),\n",
    "\n",
    "\n",
    "1.   Class cho biết comment này thuộc lớp nào:\n",
    "    *   0 : Không độc - Non Toxic\n",
    "    *   1 : Độc - Toxic\n",
    "2. Tweet tập hợp các commnet, dữ liệu này chưa được xử lý.\n",
    "\n",
    "\n",
    "**CÁC VẤN ĐỀ GIẢI QUYẾT TRONG PROJECT:**\n",
    "* Nghiên cứu các phương pháp tiền xử lý dữ liệu văn bản\n",
    "* Nghiên cứu các phương pháp trích chọn đặc trưng của dữ liệu văn bản\n",
    "* Nghiên cứu sử dụng các thuật toán học máy phân lớp văn bản (Toxic - Non Toxic)\n",
    "\n",
    "<img src='Pic\\Picture2.png'>"
   ]
  },
  {
   "cell_type": "markdown",
   "metadata": {},
   "source": [
    "### 3.1. TẢI TẬP DỮ LIỆU DATA_CRAWSHOPEE VÀ QUAN SÁT TẬP DỮ LIỆU"
   ]
  },
  {
   "cell_type": "code",
   "execution_count": 86,
   "metadata": {},
   "outputs": [],
   "source": [
    "#Gọi các thư viện:\n",
    "import pandas as pd\n",
    "import numpy as np\n",
    "import matplotlib.pyplot as plt\n",
    "#-----------------------------------------\n",
    "import warnings\n",
    "warnings.filterwarnings('ignore')"
   ]
  },
  {
   "cell_type": "code",
   "execution_count": 87,
   "metadata": {},
   "outputs": [
    {
     "data": {
      "text/html": [
       "<div>\n",
       "<style scoped>\n",
       "    .dataframe tbody tr th:only-of-type {\n",
       "        vertical-align: middle;\n",
       "    }\n",
       "\n",
       "    .dataframe tbody tr th {\n",
       "        vertical-align: top;\n",
       "    }\n",
       "\n",
       "    .dataframe thead th {\n",
       "        text-align: right;\n",
       "    }\n",
       "</style>\n",
       "<table border=\"1\" class=\"dataframe\">\n",
       "  <thead>\n",
       "    <tr style=\"text-align: right;\">\n",
       "      <th></th>\n",
       "      <th>username</th>\n",
       "      <th>rating</th>\n",
       "      <th>comments</th>\n",
       "      <th>label</th>\n",
       "    </tr>\n",
       "  </thead>\n",
       "  <tbody>\n",
       "    <tr>\n",
       "      <th>0</th>\n",
       "      <td>thanhngannehehe</td>\n",
       "      <td>5</td>\n",
       "      <td>Áo màu sắc đẹp, vải dày dặn, đường may tinh tế...</td>\n",
       "      <td>1</td>\n",
       "    </tr>\n",
       "    <tr>\n",
       "      <th>1</th>\n",
       "      <td>thu_nv1985</td>\n",
       "      <td>5</td>\n",
       "      <td>Chất liệu:tốt\\nĐúng với mô tả:sản phẩm đúng mô...</td>\n",
       "      <td>1</td>\n",
       "    </tr>\n",
       "    <tr>\n",
       "      <th>2</th>\n",
       "      <td>thanhthao5000</td>\n",
       "      <td>5</td>\n",
       "      <td>Màu sắc:đỏ\\nĐúng với mô tả:đúng\\n\\nMình cái 1m...</td>\n",
       "      <td>1</td>\n",
       "    </tr>\n",
       "    <tr>\n",
       "      <th>3</th>\n",
       "      <td>thomai356</td>\n",
       "      <td>5</td>\n",
       "      <td>Màu sắc:tim than\\nĐúng với mô tả:đúng với hình...</td>\n",
       "      <td>1</td>\n",
       "    </tr>\n",
       "    <tr>\n",
       "      <th>4</th>\n",
       "      <td>b*****6</td>\n",
       "      <td>5</td>\n",
       "      <td>Đúng với mô tả:ok\\nMàu sắc:tím than\\nChất liệu...</td>\n",
       "      <td>1</td>\n",
       "    </tr>\n",
       "  </tbody>\n",
       "</table>\n",
       "</div>"
      ],
      "text/plain": [
       "          username  rating                                           comments   \n",
       "0  thanhngannehehe       5  Áo màu sắc đẹp, vải dày dặn, đường may tinh tế...  \\\n",
       "1       thu_nv1985       5  Chất liệu:tốt\\nĐúng với mô tả:sản phẩm đúng mô...   \n",
       "2    thanhthao5000       5  Màu sắc:đỏ\\nĐúng với mô tả:đúng\\n\\nMình cái 1m...   \n",
       "3        thomai356       5  Màu sắc:tim than\\nĐúng với mô tả:đúng với hình...   \n",
       "4          b*****6       5  Đúng với mô tả:ok\\nMàu sắc:tím than\\nChất liệu...   \n",
       "\n",
       "   label  \n",
       "0      1  \n",
       "1      1  \n",
       "2      1  \n",
       "3      1  \n",
       "4      1  "
      ]
     },
     "execution_count": 87,
     "metadata": {},
     "output_type": "execute_result"
    }
   ],
   "source": [
    "#Đọc file dữ liệu Data_NLP.csv vào biến data\n",
    "data = pd.read_csv('data.csv')\n",
    "data.head()\n"
   ]
  },
  {
   "cell_type": "code",
   "execution_count": 88,
   "metadata": {},
   "outputs": [
    {
     "data": {
      "text/html": [
       "<div>\n",
       "<style scoped>\n",
       "    .dataframe tbody tr th:only-of-type {\n",
       "        vertical-align: middle;\n",
       "    }\n",
       "\n",
       "    .dataframe tbody tr th {\n",
       "        vertical-align: top;\n",
       "    }\n",
       "\n",
       "    .dataframe thead th {\n",
       "        text-align: right;\n",
       "    }\n",
       "</style>\n",
       "<table border=\"1\" class=\"dataframe\">\n",
       "  <thead>\n",
       "    <tr style=\"text-align: right;\">\n",
       "      <th></th>\n",
       "      <th>username</th>\n",
       "      <th>rating</th>\n",
       "      <th>comments</th>\n",
       "      <th>label</th>\n",
       "    </tr>\n",
       "  </thead>\n",
       "  <tbody>\n",
       "    <tr>\n",
       "      <th>0</th>\n",
       "      <td>thanhngannehehe</td>\n",
       "      <td>5</td>\n",
       "      <td>Áo màu sắc đẹp, vải dày dặn, đường may tinh tế...</td>\n",
       "      <td>1</td>\n",
       "    </tr>\n",
       "    <tr>\n",
       "      <th>1</th>\n",
       "      <td>thu_nv1985</td>\n",
       "      <td>5</td>\n",
       "      <td>Chất liệu:tốt\\nĐúng với mô tả:sản phẩm đúng mô...</td>\n",
       "      <td>1</td>\n",
       "    </tr>\n",
       "    <tr>\n",
       "      <th>2</th>\n",
       "      <td>thanhthao5000</td>\n",
       "      <td>5</td>\n",
       "      <td>Màu sắc:đỏ\\nĐúng với mô tả:đúng\\n\\nMình cái 1m...</td>\n",
       "      <td>1</td>\n",
       "    </tr>\n",
       "    <tr>\n",
       "      <th>3</th>\n",
       "      <td>thomai356</td>\n",
       "      <td>5</td>\n",
       "      <td>Màu sắc:tim than\\nĐúng với mô tả:đúng với hình...</td>\n",
       "      <td>1</td>\n",
       "    </tr>\n",
       "    <tr>\n",
       "      <th>4</th>\n",
       "      <td>b*****6</td>\n",
       "      <td>5</td>\n",
       "      <td>Đúng với mô tả:ok\\nMàu sắc:tím than\\nChất liệu...</td>\n",
       "      <td>1</td>\n",
       "    </tr>\n",
       "  </tbody>\n",
       "</table>\n",
       "</div>"
      ],
      "text/plain": [
       "          username  rating                                           comments   \n",
       "0  thanhngannehehe       5  Áo màu sắc đẹp, vải dày dặn, đường may tinh tế...  \\\n",
       "1       thu_nv1985       5  Chất liệu:tốt\\nĐúng với mô tả:sản phẩm đúng mô...   \n",
       "2    thanhthao5000       5  Màu sắc:đỏ\\nĐúng với mô tả:đúng\\n\\nMình cái 1m...   \n",
       "3        thomai356       5  Màu sắc:tim than\\nĐúng với mô tả:đúng với hình...   \n",
       "4          b*****6       5  Đúng với mô tả:ok\\nMàu sắc:tím than\\nChất liệu...   \n",
       "\n",
       "   label  \n",
       "0      1  \n",
       "1      1  \n",
       "2      1  \n",
       "3      1  \n",
       "4      1  "
      ]
     },
     "execution_count": 88,
     "metadata": {},
     "output_type": "execute_result"
    }
   ],
   "source": [
    "# Hiển thị 5 dòn đầu tiên\n",
    "data.head()"
   ]
  },
  {
   "cell_type": "code",
   "execution_count": 89,
   "metadata": {},
   "outputs": [
    {
     "data": {
      "text/html": [
       "<div>\n",
       "<style scoped>\n",
       "    .dataframe tbody tr th:only-of-type {\n",
       "        vertical-align: middle;\n",
       "    }\n",
       "\n",
       "    .dataframe tbody tr th {\n",
       "        vertical-align: top;\n",
       "    }\n",
       "\n",
       "    .dataframe thead th {\n",
       "        text-align: right;\n",
       "    }\n",
       "</style>\n",
       "<table border=\"1\" class=\"dataframe\">\n",
       "  <thead>\n",
       "    <tr style=\"text-align: right;\">\n",
       "      <th></th>\n",
       "      <th>username</th>\n",
       "      <th>rating</th>\n",
       "      <th>comments</th>\n",
       "      <th>label</th>\n",
       "    </tr>\n",
       "  </thead>\n",
       "  <tbody>\n",
       "    <tr>\n",
       "      <th>1217</th>\n",
       "      <td>tunglam070202</td>\n",
       "      <td>5</td>\n",
       "      <td>Tốt</td>\n",
       "      <td>1</td>\n",
       "    </tr>\n",
       "    <tr>\n",
       "      <th>1218</th>\n",
       "      <td>hienhoang479</td>\n",
       "      <td>5</td>\n",
       "      <td>Ok</td>\n",
       "      <td>1</td>\n",
       "    </tr>\n",
       "    <tr>\n",
       "      <th>1219</th>\n",
       "      <td>diem125</td>\n",
       "      <td>5</td>\n",
       "      <td>NaN</td>\n",
       "      <td>1</td>\n",
       "    </tr>\n",
       "    <tr>\n",
       "      <th>1220</th>\n",
       "      <td>t*****0</td>\n",
       "      <td>5</td>\n",
       "      <td>Túi hàng khi giao đến nơi đã bị móp rất nhiểu,...</td>\n",
       "      <td>0</td>\n",
       "    </tr>\n",
       "    <tr>\n",
       "      <th>1221</th>\n",
       "      <td>ntth86</td>\n",
       "      <td>4</td>\n",
       "      <td>Ổn</td>\n",
       "      <td>1</td>\n",
       "    </tr>\n",
       "  </tbody>\n",
       "</table>\n",
       "</div>"
      ],
      "text/plain": [
       "           username  rating   \n",
       "1217  tunglam070202       5  \\\n",
       "1218   hienhoang479       5   \n",
       "1219        diem125       5   \n",
       "1220        t*****0       5   \n",
       "1221         ntth86       4   \n",
       "\n",
       "                                               comments  label  \n",
       "1217                                                Tốt      1  \n",
       "1218                                                 Ok      1  \n",
       "1219                                                NaN      1  \n",
       "1220  Túi hàng khi giao đến nơi đã bị móp rất nhiểu,...      0  \n",
       "1221                                                 Ổn      1  "
      ]
     },
     "execution_count": 89,
     "metadata": {},
     "output_type": "execute_result"
    }
   ],
   "source": [
    "#Hiển thị 5 dòng cuối cùng\n",
    "data.tail(5)"
   ]
  },
  {
   "cell_type": "code",
   "execution_count": 90,
   "metadata": {},
   "outputs": [
    {
     "name": "stdout",
     "output_type": "stream",
     "text": [
      "[['“Càng có nhiều trải nghiệm, bạn càng trưởng thành hơn. Vì vậy, đừng sợ phải thử, hãy sống và trải nghiệm tất cả những gì tồn tại trong đời” – Osho.']]\n"
     ]
    }
   ],
   "source": [
    "#Hiển thị nội dung một comment bất kỳ\n",
    "print(data.loc[[1100],['comments']].values)"
   ]
  },
  {
   "cell_type": "markdown",
   "metadata": {},
   "source": [
    "**Kiểm tra dữ liệu thiếu, dữ liệu trùng lặp:**\n",
    "---"
   ]
  },
  {
   "cell_type": "code",
   "execution_count": 91,
   "metadata": {},
   "outputs": [],
   "source": [
    "#Kiểm tra dữ liệu missing trong tập:\n",
    "data.isnull().sum()\n",
    "\n",
    "# Loại bỏ dòng có giá trị NaN trong cột bình luận\n",
    "data = data.dropna(subset=['comments'])\n",
    "\n",
    "# Đặt lại chỉ số index sau khi xóa\n",
    "data = data.reset_index(drop=True)\n"
   ]
  },
  {
   "cell_type": "code",
   "execution_count": 92,
   "metadata": {},
   "outputs": [
    {
     "data": {
      "text/plain": [
       "12"
      ]
     },
     "execution_count": 92,
     "metadata": {},
     "output_type": "execute_result"
    }
   ],
   "source": [
    "#Kiểm tra dữ liệu trùng lặp:\n",
    "data.duplicated().sum()"
   ]
  },
  {
   "cell_type": "code",
   "execution_count": 93,
   "metadata": {},
   "outputs": [
    {
     "data": {
      "text/html": [
       "<div>\n",
       "<style scoped>\n",
       "    .dataframe tbody tr th:only-of-type {\n",
       "        vertical-align: middle;\n",
       "    }\n",
       "\n",
       "    .dataframe tbody tr th {\n",
       "        vertical-align: top;\n",
       "    }\n",
       "\n",
       "    .dataframe thead th {\n",
       "        text-align: right;\n",
       "    }\n",
       "</style>\n",
       "<table border=\"1\" class=\"dataframe\">\n",
       "  <thead>\n",
       "    <tr style=\"text-align: right;\">\n",
       "      <th></th>\n",
       "      <th>username</th>\n",
       "      <th>rating</th>\n",
       "      <th>comments</th>\n",
       "      <th>label</th>\n",
       "    </tr>\n",
       "  </thead>\n",
       "  <tbody>\n",
       "    <tr>\n",
       "      <th>531</th>\n",
       "      <td>duongthingoc02101997</td>\n",
       "      <td>5</td>\n",
       "      <td>Do khéo léo, giỏi tính toán, khả năng quan sát...</td>\n",
       "      <td>-1</td>\n",
       "    </tr>\n",
       "    <tr>\n",
       "      <th>205</th>\n",
       "      <td>_winnie_13</td>\n",
       "      <td>5</td>\n",
       "      <td>Giao hàng nhanh, đúng thời gian, đủ số lượng. ...</td>\n",
       "      <td>1</td>\n",
       "    </tr>\n",
       "    <tr>\n",
       "      <th>674</th>\n",
       "      <td>emdua2103</td>\n",
       "      <td>5</td>\n",
       "      <td>Hàng đẹp, giao hàng nhanh. Hình ảnh chỉ mang t...</td>\n",
       "      <td>1</td>\n",
       "    </tr>\n",
       "    <tr>\n",
       "      <th>927</th>\n",
       "      <td>tamnguyen121294</td>\n",
       "      <td>5</td>\n",
       "      <td>Lo lắng chỉ lãng phí thời gian, nó không làm g...</td>\n",
       "      <td>-1</td>\n",
       "    </tr>\n",
       "    <tr>\n",
       "      <th>477</th>\n",
       "      <td>oanh179</td>\n",
       "      <td>5</td>\n",
       "      <td>Shop giao hàng nhanh, nhân viên tư vấn nhiệt t...</td>\n",
       "      <td>1</td>\n",
       "    </tr>\n",
       "    <tr>\n",
       "      <th>708</th>\n",
       "      <td>maidieuhang0110</td>\n",
       "      <td>5</td>\n",
       "      <td>Săn sale dc giá rẻ hơn so với ở cửa hàng rất n...</td>\n",
       "      <td>1</td>\n",
       "    </tr>\n",
       "    <tr>\n",
       "      <th>257</th>\n",
       "      <td>_winnie_13</td>\n",
       "      <td>5</td>\n",
       "      <td>Sản phẩm chất lượng tốt, giá thành phải chăng....</td>\n",
       "      <td>1</td>\n",
       "    </tr>\n",
       "    <tr>\n",
       "      <th>1085</th>\n",
       "      <td>h*****d</td>\n",
       "      <td>5</td>\n",
       "      <td>Sản phẩm phù hợp giá tiền. Chất lượng sản phẩm...</td>\n",
       "      <td>1</td>\n",
       "    </tr>\n",
       "    <tr>\n",
       "      <th>608</th>\n",
       "      <td>t*****c</td>\n",
       "      <td>5</td>\n",
       "      <td>sản phẩm có chất lượng dùng tốt \\ngiao hàng nh...</td>\n",
       "      <td>1</td>\n",
       "    </tr>\n",
       "    <tr>\n",
       "      <th>1097</th>\n",
       "      <td>kimthoaahiha</td>\n",
       "      <td>5</td>\n",
       "      <td>Áo đẹp, đóng gói cẩn thận, sản phẩm như quảng ...</td>\n",
       "      <td>1</td>\n",
       "    </tr>\n",
       "    <tr>\n",
       "      <th>690</th>\n",
       "      <td>NaN</td>\n",
       "      <td>5</td>\n",
       "      <td>Đjep nha mua của shop nhiều lần rồi lần nào cũ...</td>\n",
       "      <td>1</td>\n",
       "    </tr>\n",
       "    <tr>\n",
       "      <th>1089</th>\n",
       "      <td>h*****1</td>\n",
       "      <td>5</td>\n",
       "      <td>“Càng có nhiều trải nghiệm, bạn càng trưởng th...</td>\n",
       "      <td>1</td>\n",
       "    </tr>\n",
       "  </tbody>\n",
       "</table>\n",
       "</div>"
      ],
      "text/plain": [
       "                  username  rating   \n",
       "531   duongthingoc02101997       5  \\\n",
       "205             _winnie_13       5   \n",
       "674              emdua2103       5   \n",
       "927        tamnguyen121294       5   \n",
       "477                oanh179       5   \n",
       "708        maidieuhang0110       5   \n",
       "257             _winnie_13       5   \n",
       "1085               h*****d       5   \n",
       "608                t*****c       5   \n",
       "1097          kimthoaahiha       5   \n",
       "690                    NaN       5   \n",
       "1089               h*****1       5   \n",
       "\n",
       "                                               comments  label  \n",
       "531   Do khéo léo, giỏi tính toán, khả năng quan sát...     -1  \n",
       "205   Giao hàng nhanh, đúng thời gian, đủ số lượng. ...      1  \n",
       "674   Hàng đẹp, giao hàng nhanh. Hình ảnh chỉ mang t...      1  \n",
       "927   Lo lắng chỉ lãng phí thời gian, nó không làm g...     -1  \n",
       "477   Shop giao hàng nhanh, nhân viên tư vấn nhiệt t...      1  \n",
       "708   Săn sale dc giá rẻ hơn so với ở cửa hàng rất n...      1  \n",
       "257   Sản phẩm chất lượng tốt, giá thành phải chăng....      1  \n",
       "1085  Sản phẩm phù hợp giá tiền. Chất lượng sản phẩm...      1  \n",
       "608   sản phẩm có chất lượng dùng tốt \\ngiao hàng nh...      1  \n",
       "1097  Áo đẹp, đóng gói cẩn thận, sản phẩm như quảng ...      1  \n",
       "690   Đjep nha mua của shop nhiều lần rồi lần nào cũ...      1  \n",
       "1089  “Càng có nhiều trải nghiệm, bạn càng trưởng th...      1  "
      ]
     },
     "execution_count": 93,
     "metadata": {},
     "output_type": "execute_result"
    }
   ],
   "source": [
    "#Liệt kê các bản ghi trùng lặp\n",
    "data[data.duplicated()==True].sort_values(by='comments')"
   ]
  },
  {
   "cell_type": "code",
   "execution_count": 94,
   "metadata": {},
   "outputs": [
    {
     "name": "stdout",
     "output_type": "stream",
     "text": [
      "<class 'pandas.core.frame.DataFrame'>\n",
      "Index: 1181 entries, 0 to 1192\n",
      "Data columns (total 4 columns):\n",
      " #   Column    Non-Null Count  Dtype \n",
      "---  ------    --------------  ----- \n",
      " 0   username  1175 non-null   object\n",
      " 1   rating    1181 non-null   int64 \n",
      " 2   comments  1181 non-null   object\n",
      " 3   label     1181 non-null   int64 \n",
      "dtypes: int64(2), object(2)\n",
      "memory usage: 46.1+ KB\n"
     ]
    }
   ],
   "source": [
    "#Xóa các dữ liệu trùng lặp giữ lại bản ghi đầu tiên:\n",
    "data.drop_duplicates(keep='first',inplace=True)\n",
    "data.info()"
   ]
  },
  {
   "cell_type": "markdown",
   "metadata": {},
   "source": [
    "### 3.2.TIỀN XỬ LÝ DỮ LIỆU VĂN BẢN\n",
    "---\n",
    "\n",
    "Sử dụng thư viện Natural Language Tool Kit (NLTK) thực hiện xử lý các comment\n",
    "\n",
    "NLTK là một bộ công cụ dành riêng cho Natural Language Processing và được tích hợp vào Python. Nó đang ngày càng hoàn thiện và tích hợp các công cụ mới bởi hàng nghìn lập trình viên và cộng tác viên trên khắp thế giới. NLTK bao gồm những thư viện hàm, các công cụ phân tích, các corpus, wordnet, …giúp đơn giản hóa, tiết kiệm thời gian và công sức cho các lập trình viên. Python kết hợp với NLTK là bộ công cụ hữu hiệu và mạnh mẽ nhất dành cho Natural Language Processing.\n",
    "\n",
    "http://www.nltk.org/\n"
   ]
  },
  {
   "cell_type": "code",
   "execution_count": 95,
   "metadata": {},
   "outputs": [
    {
     "name": "stdout",
     "output_type": "stream",
     "text": [
      "3.8.1\n"
     ]
    },
    {
     "name": "stderr",
     "output_type": "stream",
     "text": [
      "[nltk_data] Downloading package stopwords to C:\\Users\\DINH THI\n",
      "[nltk_data]     TRANG\\AppData\\Roaming\\nltk_data...\n",
      "[nltk_data]   Package stopwords is already up-to-date!\n",
      "[nltk_data] Downloading package punkt to C:\\Users\\DINH THI\n",
      "[nltk_data]     TRANG\\AppData\\Roaming\\nltk_data...\n",
      "[nltk_data]   Package punkt is already up-to-date!\n",
      "[nltk_data] Downloading package wordnet to C:\\Users\\DINH THI\n",
      "[nltk_data]     TRANG\\AppData\\Roaming\\nltk_data...\n",
      "[nltk_data]   Package wordnet is already up-to-date!\n",
      "[nltk_data] Downloading package averaged_perceptron_tagger to\n",
      "[nltk_data]     C:\\Users\\DINH THI TRANG\\AppData\\Roaming\\nltk_data...\n",
      "[nltk_data]   Package averaged_perceptron_tagger is already up-to-\n",
      "[nltk_data]       date!\n"
     ]
    }
   ],
   "source": [
    "#Khai báo sử dụng thư viện NLTK\n",
    "import nltk\n",
    "nltk.download('stopwords')\n",
    "nltk.download('punkt')\n",
    "nltk.download('wordnet')\n",
    "nltk.download('averaged_perceptron_tagger')\n",
    "from pyvi import ViTokenizer\n",
    "\n",
    "\n",
    "print(nltk.__version__)"
   ]
  },
  {
   "cell_type": "markdown",
   "metadata": {},
   "source": [
    "### 3.3.1) Làm sạch dữ liệu\n",
    "----\n",
    "Mục đích bước này là loại bỏ noise trong data của bạn. Đa phần noise là các thẻ HTML, JavaScript, và đương nhiên nếu cứ để noise để tiến hành xử lý sẽ dẫn đến kết quả xử lý không tốt.\n",
    "\n",
    "Thư viện re — Regular expression operations: thao tác với biểu thức chính quy\n",
    "\n",
    "https://regex101.com/"
   ]
  },
  {
   "cell_type": "markdown",
   "metadata": {},
   "source": [
    "# Loại bỏ DL trống or lỗi"
   ]
  },
  {
   "cell_type": "code",
   "execution_count": 96,
   "metadata": {},
   "outputs": [
    {
     "name": "stdout",
     "output_type": "stream",
     "text": [
      "Index(['username', 'rating', 'comments', 'label'], dtype='object')\n"
     ]
    }
   ],
   "source": [
    "print(data.columns)"
   ]
  },
  {
   "cell_type": "markdown",
   "metadata": {},
   "source": [
    "\n",
    "Chuẩn hóa Unicode (dùng underthesea)\n",
    "\n",
    "Xử lý từ viết tắt (đã có trong hàm decontracted_vietnamese)\n",
    "\n",
    "Tách từ (word segmentation) (dùng underthesea)\n",
    "\n",
    "Loại bỏ stopword phổ biến tiếng Việt"
   ]
  },
  {
   "cell_type": "code",
   "execution_count": 97,
   "metadata": {},
   "outputs": [
    {
     "name": "stdout",
     "output_type": "stream",
     "text": [
      "                                            comments   \n",
      "0  Áo màu sắc đẹp, vải dày dặn, đường may tinh tế...  \\\n",
      "1  Chất liệu:tốt\\nĐúng với mô tả:sản phẩm đúng mô...   \n",
      "2  Màu sắc:đỏ\\nĐúng với mô tả:đúng\\n\\nMình cái 1m...   \n",
      "3  Màu sắc:tim than\\nĐúng với mô tả:đúng với hình...   \n",
      "4  Đúng với mô tả:ok\\nMàu sắc:tím than\\nChất liệu...   \n",
      "\n",
      "                                  comments_processed  \n",
      "0  áo màu_sắc_đẹp , vải dày_dặn , đường may tinh_...  \n",
      "1  chất_liệu : tốt đúng mô_tả : sản_phẩm đúng mô_...  \n",
      "2  màu_sắc : đỏ đúng mô_tả : đúng cái 1 m65 nặng ...  \n",
      "3  màu_sắc : tim than đúng mô_tả : đúng hình_ảnh ...  \n",
      "4  đúng mô_tả : ok màu_sắc : tím than chất_liệu :...  \n"
     ]
    }
   ],
   "source": [
    "import re\n",
    "from underthesea import word_tokenize, text_normalize\n",
    "\n",
    "# Danh sách stopword tiếng Việt cơ bản (rút gọn, bạn có thể mở rộng)\n",
    "vietnamese_stopwords = set([\n",
    "    \"và\", \"là\", \"có\", \"cho\", \"với\", \"một\", \"các\", \"được\", \"rất\", \"những\",\n",
    "    \"đã\", \"này\", \"trong\", \"khi\", \"thì\", \"lại\", \"tôi\", \"mình\", \"bạn\", \"anh\", \"chị\"\n",
    "])\n",
    "\n",
    "# Hàm xử lý từ viết tắt tiếng Việt\n",
    "def decontracted_vietnamese(st):\n",
    "    st = re.sub(r\"\\bko\\b\", \"không\", st, flags=re.IGNORECASE)\n",
    "    st = re.sub(r\"\\bk\\b\", \"không\", st, flags=re.IGNORECASE)\n",
    "    st = re.sub(r\"\\bhok\\b\", \"không\", st, flags=re.IGNORECASE)\n",
    "    st = re.sub(r\"\\bđc\\b\", \"được\", st, flags=re.IGNORECASE)\n",
    "    st = re.sub(r\"\\bdc\\b\", \"được\", st, flags=re.IGNORECASE)\n",
    "    st = re.sub(r\"\\bj\\b\", \"gì\", st, flags=re.IGNORECASE)\n",
    "    st = re.sub(r\"\\bm\\b\", \"mình\", st, flags=re.IGNORECASE)\n",
    "    st = re.sub(r\"\\bt\\b\", \"tôi\", st, flags=re.IGNORECASE)\n",
    "    st = re.sub(r\"\\bntn\\b\", \"như thế nào\", st, flags=re.IGNORECASE)\n",
    "    st = re.sub(r\"\\buhm\\b\", \"ừ\", st, flags=re.IGNORECASE)\n",
    "    st = re.sub(r\"\\bvs\\b\", \"với\", st, flags=re.IGNORECASE)\n",
    "    st = re.sub(r\"\\bthik\\b\", \"thích\", st, flags=re.IGNORECASE)\n",
    "    return st\n",
    "\n",
    "# Hàm tiền xử lý nâng cao\n",
    "def preprocess_text(text):\n",
    "    text = str(text).lower()\n",
    "    text = text_normalize(text)  # chuẩn hóa unicode\n",
    "    text = decontracted_vietnamese(text)  # mở rộng từ viết tắt\n",
    "    text = word_tokenize(text, format=\"text\")  # tách từ\n",
    "    tokens = text.split()\n",
    "    tokens = [word for word in tokens if word not in vietnamese_stopwords]  # loại bỏ stopword\n",
    "    return \" \".join(tokens)\n",
    "\n",
    "\n",
    "# Áp dụng tiền xử lý\n",
    "data['comments_processed'] = data['comments'].apply(preprocess_text)\n",
    "\n",
    "# Xem kết quả\n",
    "print(data[['comments', 'comments_processed']].head())\n"
   ]
  },
  {
   "cell_type": "code",
   "execution_count": 98,
   "metadata": {},
   "outputs": [],
   "source": [
    " #hàm clear_link thực hiện loại bỏ liên kết (link), địa chỉ email trong câu\n",
    "def clear_link(st):\n",
    "    #Remove links/email\n",
    "    word = re.sub(r'((http|https)\\:\\/\\/)?[a-zA-Z0-9\\.\\/\\?\\:@\\-_=#]+\\.([a-zA-Z]){2,6}([a-zA-Z0-9\\.\\&\\/\\?\\:@\\-_=#])*',\n",
    "                '', st, flags=re.MULTILINE)\n",
    "    word = re.sub(r'(@[^\\s]*)', \"\", word)\n",
    "    #word = re.sub('[\\W]', ' ', st)\n",
    "    return word"
   ]
  },
  {
   "cell_type": "code",
   "execution_count": 99,
   "metadata": {},
   "outputs": [
    {
     "name": "stdout",
     "output_type": "stream",
     "text": [
      "Dữ liệu ban đầu: \n",
      " 0       Áo màu sắc đẹp, vải dày dặn, đường may tinh tế...\n",
      "1       Chất liệu:tốt\\nĐúng với mô tả:sản phẩm đúng mô...\n",
      "2       Màu sắc:đỏ\\nĐúng với mô tả:đúng\\n\\nMình cái 1m...\n",
      "3       Màu sắc:tim than\\nĐúng với mô tả:đúng với hình...\n",
      "4       Đúng với mô tả:ok\\nMàu sắc:tím than\\nChất liệu...\n",
      "                              ...                        \n",
      "1188                                                  Đẹp\n",
      "1189                                                  Tốt\n",
      "1190                                                   Ok\n",
      "1191    Túi hàng khi giao đến nơi đã bị móp rất nhiểu,...\n",
      "1192                                                   Ổn\n",
      "Name: comments, Length: 1181, dtype: object\n",
      "-----------------------------------------------\n",
      "Dữ liệu sau khi xử lý: \n",
      " 0       Áo màu sắc đẹp, vải dày dặn, đường may tinh tế...\n",
      "1       Chất liệu:tốt\\nĐúng với mô tả:sản phẩm đúng mô...\n",
      "2       Màu sắc:đỏ\\nĐúng với mô tả:đúng\\n\\nMình cái 1m...\n",
      "3       Màu sắc:tim than\\nĐúng với mô tả:đúng với hình...\n",
      "4       Đúng với mô tả:ok\\nMàu sắc:tím than\\nChất liệu...\n",
      "                              ...                        \n",
      "1188                                                  Đẹp\n",
      "1189                                                  Tốt\n",
      "1190                                                   Ok\n",
      "1191    Túi hàng khi giao đến nơi đã bị móp rất nhiểu,...\n",
      "1192                                                   Ổn\n",
      "Name: comments_clear_link, Length: 1181, dtype: object\n"
     ]
    }
   ],
   "source": [
    "# In dữ liệu ban đầu từ cột \"comments\"\n",
    "print(\"Dữ liệu ban đầu: \\n\", data['comments'])\n",
    "print('-----------------------------------------------')\n",
    "\n",
    "# Áp dụng hàm clear_link cho từng dòng trong cột \"comments\"\n",
    "data['comments_clear_link'] = data['comments'].apply(lambda x: clear_link(str(x)))\n",
    "\n",
    "# In kết quả đã xử lý\n",
    "print(\"Dữ liệu sau khi xử lý: \\n\", data['comments_clear_link'])\n"
   ]
  },
  {
   "cell_type": "code",
   "execution_count": 100,
   "metadata": {},
   "outputs": [],
   "source": [
    "#Hàm clear_punctuation thực hiện loai bỏ các dấu câu, ký tự đặc biệt trong chuỗi\n",
    "def clear_punctuation(st):\n",
    "    word = re.sub(r'[^\\w\\s]', '',st)\n",
    "    return word"
   ]
  },
  {
   "cell_type": "code",
   "execution_count": 101,
   "metadata": {},
   "outputs": [
    {
     "name": "stdout",
     "output_type": "stream",
     "text": [
      "Dữ liệu ban đầu: \n",
      "              username  rating   \n",
      "0     thanhngannehehe       5  \\\n",
      "1          thu_nv1985       5   \n",
      "2       thanhthao5000       5   \n",
      "3           thomai356       5   \n",
      "4             b*****6       5   \n",
      "...               ...     ...   \n",
      "1188       zgx6g70slq       5   \n",
      "1189    tunglam070202       5   \n",
      "1190     hienhoang479       5   \n",
      "1191          t*****0       5   \n",
      "1192           ntth86       4   \n",
      "\n",
      "                                               comments  label   \n",
      "0     Áo màu sắc đẹp, vải dày dặn, đường may tinh tế...      1  \\\n",
      "1     Chất liệu:tốt\\nĐúng với mô tả:sản phẩm đúng mô...      1   \n",
      "2     Màu sắc:đỏ\\nĐúng với mô tả:đúng\\n\\nMình cái 1m...      1   \n",
      "3     Màu sắc:tim than\\nĐúng với mô tả:đúng với hình...      1   \n",
      "4     Đúng với mô tả:ok\\nMàu sắc:tím than\\nChất liệu...      1   \n",
      "...                                                 ...    ...   \n",
      "1188                                                Đẹp      1   \n",
      "1189                                                Tốt      1   \n",
      "1190                                                 Ok      1   \n",
      "1191  Túi hàng khi giao đến nơi đã bị móp rất nhiểu,...      0   \n",
      "1192                                                 Ổn      1   \n",
      "\n",
      "                                     comments_processed   \n",
      "0     áo màu_sắc_đẹp , vải dày_dặn , đường may tinh_...  \\\n",
      "1     chất_liệu : tốt đúng mô_tả : sản_phẩm đúng mô_...   \n",
      "2     màu_sắc : đỏ đúng mô_tả : đúng cái 1 m65 nặng ...   \n",
      "3     màu_sắc : tim than đúng mô_tả : đúng hình_ảnh ...   \n",
      "4     đúng mô_tả : ok màu_sắc : tím than chất_liệu :...   \n",
      "...                                                 ...   \n",
      "1188                                                đẹp   \n",
      "1189                                                tốt   \n",
      "1190                                                 ok   \n",
      "1191  túi hàng giao đến_nơi bị móp nhiểu , hàng quá ...   \n",
      "1192                                                 ổn   \n",
      "\n",
      "                                    comments_clear_link  \n",
      "0     Áo màu sắc đẹp, vải dày dặn, đường may tinh tế...  \n",
      "1     Chất liệu:tốt\\nĐúng với mô tả:sản phẩm đúng mô...  \n",
      "2     Màu sắc:đỏ\\nĐúng với mô tả:đúng\\n\\nMình cái 1m...  \n",
      "3     Màu sắc:tim than\\nĐúng với mô tả:đúng với hình...  \n",
      "4     Đúng với mô tả:ok\\nMàu sắc:tím than\\nChất liệu...  \n",
      "...                                                 ...  \n",
      "1188                                                Đẹp  \n",
      "1189                                                Tốt  \n",
      "1190                                                 Ok  \n",
      "1191  Túi hàng khi giao đến nơi đã bị móp rất nhiểu,...  \n",
      "1192                                                 Ổn  \n",
      "\n",
      "[1181 rows x 6 columns]\n",
      "-----------------------------------------------\n",
      "Dữ liệu sau khi xử lý: \n",
      " 0       Áo màu sắc đẹp vải dày dặn đường may tinh tế f...\n",
      "1       Chất liệutốt\\nĐúng với mô tảsản phẩm đúng mô t...\n",
      "2       Màu sắcđỏ\\nĐúng với mô tảđúng\\n\\nMình cái 1m65...\n",
      "3       Màu sắctim than\\nĐúng với mô tảđúng với hình ả...\n",
      "4       Đúng với mô tảok\\nMàu sắctím than\\nChất liệugi...\n",
      "                              ...                        \n",
      "1188                                                  Đẹp\n",
      "1189                                                  Tốt\n",
      "1190                                                   Ok\n",
      "1191    Túi hàng khi giao đến nơi đã bị móp rất nhiểu ...\n",
      "1192                                                   Ổn\n",
      "Name: comments_clear_punctuation, Length: 1181, dtype: object\n"
     ]
    }
   ],
   "source": [
    "# In dữ liệu ban đầu từ DataFrame\n",
    "print(\"Dữ liệu ban đầu: \\n\", data)\n",
    "print('-----------------------------------------------')\n",
    "\n",
    "# Áp dụng hàm clear_punctuation cho từng dòng trong cột cần xử lý\n",
    "data['comments_clear_punctuation'] = data['comments'].apply(lambda x: clear_punctuation(str(x)))\n",
    "\n",
    "# In kết quả đã xử lý\n",
    "print(\"Dữ liệu sau khi xử lý: \\n\", data['comments_clear_punctuation'])\n"
   ]
  },
  {
   "cell_type": "code",
   "execution_count": 102,
   "metadata": {},
   "outputs": [],
   "source": [
    "#Hàm clear_special loại bỏ các ký tự chỉ để lại các ký tự chữ a-z, A-Z\n",
    "def clear_special(st):\n",
    "    word = re.sub('[^a-zA-Z]', ' ', st)\n",
    "    return word"
   ]
  },
  {
   "cell_type": "code",
   "execution_count": 103,
   "metadata": {},
   "outputs": [
    {
     "name": "stdout",
     "output_type": "stream",
     "text": [
      "Dữ liệu ban đầu: \n",
      "              username  rating   \n",
      "0     thanhngannehehe       5  \\\n",
      "1          thu_nv1985       5   \n",
      "2       thanhthao5000       5   \n",
      "3           thomai356       5   \n",
      "4             b*****6       5   \n",
      "...               ...     ...   \n",
      "1188       zgx6g70slq       5   \n",
      "1189    tunglam070202       5   \n",
      "1190     hienhoang479       5   \n",
      "1191          t*****0       5   \n",
      "1192           ntth86       4   \n",
      "\n",
      "                                               comments  label   \n",
      "0     Áo màu sắc đẹp, vải dày dặn, đường may tinh tế...      1  \\\n",
      "1     Chất liệu:tốt\\nĐúng với mô tả:sản phẩm đúng mô...      1   \n",
      "2     Màu sắc:đỏ\\nĐúng với mô tả:đúng\\n\\nMình cái 1m...      1   \n",
      "3     Màu sắc:tim than\\nĐúng với mô tả:đúng với hình...      1   \n",
      "4     Đúng với mô tả:ok\\nMàu sắc:tím than\\nChất liệu...      1   \n",
      "...                                                 ...    ...   \n",
      "1188                                                Đẹp      1   \n",
      "1189                                                Tốt      1   \n",
      "1190                                                 Ok      1   \n",
      "1191  Túi hàng khi giao đến nơi đã bị móp rất nhiểu,...      0   \n",
      "1192                                                 Ổn      1   \n",
      "\n",
      "                                     comments_processed   \n",
      "0     áo màu_sắc_đẹp , vải dày_dặn , đường may tinh_...  \\\n",
      "1     chất_liệu : tốt đúng mô_tả : sản_phẩm đúng mô_...   \n",
      "2     màu_sắc : đỏ đúng mô_tả : đúng cái 1 m65 nặng ...   \n",
      "3     màu_sắc : tim than đúng mô_tả : đúng hình_ảnh ...   \n",
      "4     đúng mô_tả : ok màu_sắc : tím than chất_liệu :...   \n",
      "...                                                 ...   \n",
      "1188                                                đẹp   \n",
      "1189                                                tốt   \n",
      "1190                                                 ok   \n",
      "1191  túi hàng giao đến_nơi bị móp nhiểu , hàng quá ...   \n",
      "1192                                                 ổn   \n",
      "\n",
      "                                    comments_clear_link   \n",
      "0     Áo màu sắc đẹp, vải dày dặn, đường may tinh tế...  \\\n",
      "1     Chất liệu:tốt\\nĐúng với mô tả:sản phẩm đúng mô...   \n",
      "2     Màu sắc:đỏ\\nĐúng với mô tả:đúng\\n\\nMình cái 1m...   \n",
      "3     Màu sắc:tim than\\nĐúng với mô tả:đúng với hình...   \n",
      "4     Đúng với mô tả:ok\\nMàu sắc:tím than\\nChất liệu...   \n",
      "...                                                 ...   \n",
      "1188                                                Đẹp   \n",
      "1189                                                Tốt   \n",
      "1190                                                 Ok   \n",
      "1191  Túi hàng khi giao đến nơi đã bị móp rất nhiểu,...   \n",
      "1192                                                 Ổn   \n",
      "\n",
      "                             comments_clear_punctuation  \n",
      "0     Áo màu sắc đẹp vải dày dặn đường may tinh tế f...  \n",
      "1     Chất liệutốt\\nĐúng với mô tảsản phẩm đúng mô t...  \n",
      "2     Màu sắcđỏ\\nĐúng với mô tảđúng\\n\\nMình cái 1m65...  \n",
      "3     Màu sắctim than\\nĐúng với mô tảđúng với hình ả...  \n",
      "4     Đúng với mô tảok\\nMàu sắctím than\\nChất liệugi...  \n",
      "...                                                 ...  \n",
      "1188                                                Đẹp  \n",
      "1189                                                Tốt  \n",
      "1190                                                 Ok  \n",
      "1191  Túi hàng khi giao đến nơi đã bị móp rất nhiểu ...  \n",
      "1192                                                 Ổn  \n",
      "\n",
      "[1181 rows x 7 columns]\n",
      "-----------------------------------------------\n",
      "Dữ liệu sau khi xử lý: \n",
      " 0        o m u s c   p  v i d y d n     ng may tinh t ...\n",
      "1       Ch t li u t t   ng v i m  t  s n ph m   ng m  ...\n",
      "2       M u s c      ng v i m  t    ng  M nh c i  m   ...\n",
      "3       M u s c tim than   ng v i m  t    ng v i h nh ...\n",
      "4         ng v i m  t  ok M u s c t m than Ch t li u g...\n",
      "                              ...                        \n",
      "1188                                                    p\n",
      "1189                                                  T t\n",
      "1190                                                   Ok\n",
      "1191    T i h ng khi giao   n n i    b  m p r t nhi u ...\n",
      "1192                                                    n\n",
      "Name: comments_clear_special, Length: 1181, dtype: object\n"
     ]
    }
   ],
   "source": [
    "# In dữ liệu ban đầu từ DataFrame\n",
    "print(\"Dữ liệu ban đầu: \\n\", data)\n",
    "print('-----------------------------------------------')\n",
    "\n",
    "# Áp dụng hàm clear_special cho từng dòng trong cột 'comments'\n",
    "data['comments_clear_special'] = data['comments'].apply(lambda x: clear_special(str(x)))\n",
    "\n",
    "# In kết quả đã xử lý\n",
    "print(\"Dữ liệu sau khi xử lý: \\n\", data['comments_clear_special'])\n"
   ]
  },
  {
   "cell_type": "code",
   "execution_count": 104,
   "metadata": {},
   "outputs": [
    {
     "name": "stdout",
     "output_type": "stream",
     "text": [
      "Dữ liệu ban đầu: \n",
      " 0    Áo màu sắc đẹp, vải dày dặn, đường may tinh tế...\n",
      "1    Chất liệu:tốt\\nĐúng với mô tả:sản phẩm đúng mô...\n",
      "2    Màu sắc:đỏ\\nĐúng với mô tả:đúng\\n\\nMình cái 1m...\n",
      "3    Màu sắc:tim than\\nĐúng với mô tả:đúng với hình...\n",
      "4    Đúng với mô tả:ok\\nMàu sắc:tím than\\nChất liệu...\n",
      "Name: comments, dtype: object\n",
      "-----------------------------------------------\n",
      "Dữ liệu sau khi làm sạch: \n",
      " 0     o m u s c   p v i d y d n    ng may tinh t  f...\n",
      "1    ch t li ut t   ng v i m  t s n ph m   ng m  t ...\n",
      "2    m u s c     ng v i m  t   ng  m nh c i  m   n ...\n",
      "3    m u s ctim than   ng v i m  t   ng v i h nh  n...\n",
      "4      ng v i m  t ok m u s ct m than ch t li ugi n...\n",
      "Name: comments_cleaned, dtype: object\n"
     ]
    }
   ],
   "source": [
    "# Hàm clear_noise kết hợp các hàm xử lý chuỗi\n",
    "def clear_noise(word):\n",
    "    word = word.lower()                      # Chuyển sang chữ thường\n",
    "    word = clear_link(word)                  # Xóa link/email\n",
    "    word = clear_punctuation(word)           # Xóa dấu câu\n",
    "    word = clear_special(word)               # Xóa ký tự đặc biệt\n",
    "    return word\n",
    "\n",
    "# In dữ liệu ban đầu\n",
    "print(\"Dữ liệu ban đầu: \\n\", data['comments'].head())\n",
    "print('-----------------------------------------------')\n",
    "\n",
    "# Áp dụng clear_noise cho từng dòng trong cột \"comments\"\n",
    "data['comments_cleaned'] = data['comments'].apply(lambda x: clear_noise(str(x)))\n",
    "\n",
    "# In dữ liệu đã xử lý\n",
    "print(\"Dữ liệu sau khi làm sạch: \\n\", data['comments_cleaned'].head())\n"
   ]
  },
  {
   "cell_type": "markdown",
   "metadata": {},
   "source": [
    "### 3.3.2) Loại bỏ stopword\n",
    "---\n",
    "\n",
    "StopWords là những từ xuất hiện nhiều trong ngôn ngữ tự nhiên, tuy nhiên lại không mang nhiều ý nghĩa. Ở tiếng việt StopWords là những từ như: để, này, kia... Tiếng anh là những từ như: is, that, this... Tham khảo thêm tại danh sách stopwords trong tiếng việt\n",
    "\n",
    "Có rất nhiều cách để loại bỏ StopWords nhưng có 2 cách chính là:\n",
    "\n",
    "* Dùng từ điển\n",
    "\n",
    "* Dựa theo tần suất xuất hiện của từ"
   ]
  },
  {
   "cell_type": "code",
   "execution_count": 105,
   "metadata": {},
   "outputs": [
    {
     "name": "stdout",
     "output_type": "stream",
     "text": [
      "Hiển thị danh sách các stopwords trong tiếng Việt:\n",
      " ['và', 'là', 'có', 'cho', 'của', 'các', 'một', 'những', 'rằng', 'thì', 'lại', 'đã', 'này', 'trong', 'khi', 'đó', 'tôi', 'anh', 'em', 'nên', 'với', 'như', 'được', 'đến', 'đi', 'rất', 'vẫn', 'vì', 'do', 'hay', 'để', 'nếu', 'mà', 'ở', 'đâu', 'ai', 'gì', 'đây', 'thế', 'sao', 'lắm', 'ơi', 'à', 'ơ', 'ừ', 'nhé', 'nhỉ', 'ạ']\n"
     ]
    }
   ],
   "source": [
    "# Tạo danh sách stopwords tiếng Việt\n",
    "vietnamese_stopwords = [\n",
    "    'và', 'là', 'có', 'cho', 'của', 'các', 'một', 'những', 'rằng', 'thì',\n",
    "    'lại', 'đã', 'này', 'trong', 'khi', 'đó', 'tôi', 'anh', 'em', 'nên',\n",
    "    'với', 'như', 'được', 'đến', 'đi', 'rất', 'vẫn', 'vì', 'do', 'hay',\n",
    "    'để', 'nếu', 'mà', 'ở', 'đâu', 'ai', 'gì', 'đây', 'thế', 'sao', 'lắm',\n",
    "    'ơi', 'à', 'ơ', 'ừ', 'nhé', 'nhỉ', 'ạ'\n",
    "]\n",
    "\n",
    "# Hiển thị danh sách stopwords tiếng Việt\n",
    "print(\"Hiển thị danh sách các stopwords trong tiếng Việt:\\n\", vietnamese_stopwords)\n"
   ]
  },
  {
   "cell_type": "markdown",
   "metadata": {},
   "source": [
    "* Chuẩn hóa từ viết tắt, sai chính tả\n",
    "\n",
    "Ví dụ: Một số từ có thể bị viết sai hoặc viết tắt (vd: \"ko\" -> \"không\", \"dc\" -> \"được\")."
   ]
  },
  {
   "cell_type": "code",
   "execution_count": 106,
   "metadata": {},
   "outputs": [],
   "source": [
    "abbreviations_dict = {\n",
    "    'ko': 'không',\n",
    "    'k': 'không',\n",
    "    'hok': 'không',\n",
    "    'ntn': 'như thế nào',\n",
    "    'dc': 'được',\n",
    "    'đc': 'được',\n",
    "    'mn': 'mọi người',\n",
    "    'mik': 'mình',\n",
    "    'cx': 'cũng',\n",
    "    'j': 'gì',\n",
    "    'thik': 'thích',\n",
    "    'thk': 'thích',\n",
    "    'bt': 'bình thường',\n",
    "    'tks': 'cảm ơn',\n",
    "    'thanks': 'cảm ơn',\n",
    "    'vl': 'vãi',\n",
    "    'oke': 'ok',\n",
    "    'okie': 'ok'\n",
    "}\n",
    "def normalize_text(text, abbreviations):\n",
    "    words = text.split()\n",
    "    normalized_words = [abbreviations.get(word, word) for word in words]\n",
    "    return ' '.join(normalized_words)\n",
    "# Áp dụng hàm normalize_text cho từng dòng trong cột \"comments\"\n",
    "data['comments_normalized'] = data['comments'].apply(lambda x: normalize_text(str(x), abbreviations_dict))"
   ]
  },
  {
   "cell_type": "code",
   "execution_count": 107,
   "metadata": {},
   "outputs": [
    {
     "name": "stdout",
     "output_type": "stream",
     "text": [
      "Dữ liệu đã chuẩn hóa từ viết tắt và sai chính tả:\n",
      " 0    Áo màu sắc đẹp, vải dày dặn, đường may tinh tế...\n",
      "1    Chất liệu:tốt Đúng với mô tả:sản phẩm đúng mô ...\n",
      "2    Màu sắc:đỏ Đúng với mô tả:đúng Mình cái 1m65 n...\n",
      "3    Màu sắc:tim than Đúng với mô tả:đúng với hình ...\n",
      "4    Đúng với mô tả:ok Màu sắc:tím than Chất liệu:g...\n",
      "Name: comments_normalized, dtype: object\n"
     ]
    }
   ],
   "source": [
    "print(\"Dữ liệu đã chuẩn hóa từ viết tắt và sai chính tả:\\n\", data['comments_normalized'].head())\n"
   ]
  },
  {
   "cell_type": "code",
   "execution_count": 108,
   "metadata": {},
   "outputs": [],
   "source": [
    "# Hàm phân loại từ loại\n",
    "def classify_word(word):\n",
    "    if word in vietnamese_stopwords:\n",
    "        return 'stopword'\n",
    "    elif word in abbreviations_dict:\n",
    "        return 'abbreviation'\n",
    "    else:\n",
    "        return 'normal'"
   ]
  },
  {
   "cell_type": "markdown",
   "metadata": {},
   "source": [
    "# Tiền xử lý dữ liệu tiếng Việt:\n",
    "\n",
    "* Chuyển chữ thường\n",
    "\n",
    "* Chuẩn hóa từ viết tắt/sai chính tả\n",
    "\n",
    "* Xóa link, email\n",
    "\n",
    "* Loại bỏ dấu câu, ký tự đặc biệt\n",
    "\n",
    "* Xóa stopwords tiếng Việt"
   ]
  },
  {
   "cell_type": "code",
   "execution_count": 109,
   "metadata": {},
   "outputs": [],
   "source": [
    "# Hàm chuẩn hóa viết tắt\n",
    "def normalize_abbreviations(text, abbreviations):\n",
    "    words = text.split()\n",
    "    return ' '.join([abbreviations.get(word, word) for word in words])\n",
    "\n",
    "# Hàm xóa link, email\n",
    "def remove_links_emails(text):\n",
    "    text = re.sub(r\"http\\S+|www.\\S+\", \"\", text)  # URL\n",
    "    text = re.sub(r'\\S+@\\S+', '', text)          # Email\n",
    "    return text\n",
    "\n",
    "# Hàm xóa dấu câu\n",
    "def remove_punctuation(text):\n",
    "    return re.sub(r'[^\\w\\s]', '', text)\n",
    "\n",
    "# Hàm xóa ký tự đặc biệt\n",
    "def remove_special(text):\n",
    "    return re.sub(r'\\d+', '', text)\n",
    "\n",
    "# Hàm xóa stopwords\n",
    "def remove_stopwords(text, stopwords_list):\n",
    "    words = text.split()\n",
    "    return ' '.join([word for word in words if word not in stopwords_list])\n"
   ]
  },
  {
   "cell_type": "code",
   "execution_count": 110,
   "metadata": {},
   "outputs": [
    {
     "name": "stdout",
     "output_type": "stream",
     "text": [
      "\n"
     ]
    }
   ],
   "source": [
    "#Xây dựng hàm prepare_data: để thực hiện tiền xử lý dữ liệu\n",
    "def prepare_data(word):\n",
    "    word = clear_noise(word)        #Loại bỏ nhiễu trong các comment\n",
    "    word = clear_stopwords(word)    #Loại bỏ stopword trong các comment\n",
    "    word = fun_stemlem(word)        #Chuẩn hóa comment\n",
    "    return word\n",
    "#Hiển thị danh sách các từ trước và sau khi tiền xử lý để test\n",
    "for idx in data[6095:6100].index:\n",
    "    print(idx,\n",
    "        '\\n a.Dữ liệu gốc          :', data.iloc[idx]['tweet'],\n",
    "        '\\n b.Dữ liệu sau chuẩn hóa:',prepare_data(data.iloc[idx]['tweet']))\n",
    "print('')"
   ]
  },
  {
   "cell_type": "code",
   "execution_count": 111,
   "metadata": {},
   "outputs": [],
   "source": [
    "def clean_vietnamese_text(text):\n",
    "    text = text.lower()\n",
    "    text = normalize_abbreviations(text, abbreviations_dict)\n",
    "    text = remove_links_emails(text)\n",
    "    text = remove_punctuation(text)\n",
    "    text = remove_special(text)\n",
    "    text = remove_stopwords(text, vietnamese_stopwords)\n",
    "    return text\n"
   ]
  },
  {
   "cell_type": "markdown",
   "metadata": {},
   "source": [
    "Tách từ (Tokenization)"
   ]
  },
  {
   "cell_type": "code",
   "execution_count": 112,
   "metadata": {},
   "outputs": [],
   "source": [
    "def clean_vietnamese_text(text):\n",
    "    text = text.lower()\n",
    "    text = ViTokenizer.tokenize(text)\n",
    "    tokens = text.split()\n",
    "    tokens = [word for word in tokens if word not in vietnamese_stopwords and word.isalpha()]\n",
    "    return ' '.join(tokens)\n",
    "\n",
    "data['clean_comments'] = data['comments'].apply(clean_vietnamese_text)\n"
   ]
  },
  {
   "cell_type": "markdown",
   "metadata": {},
   "source": [
    "### lọc và loại bỏ một số comment rỗng sau chuẩn hóa:\n",
    "---\n",
    "Sau khi thực hiện tiền xử lý, một số comment chỉ còn lại xâu rỗng, cần loại bỏ những xâu này\n"
   ]
  },
  {
   "cell_type": "code",
   "execution_count": 113,
   "metadata": {},
   "outputs": [
    {
     "name": "stdout",
     "output_type": "stream",
     "text": [
      "<class 'pandas.core.frame.DataFrame'>\n",
      "Index: 1181 entries, 0 to 1192\n",
      "Data columns (total 11 columns):\n",
      " #   Column                      Non-Null Count  Dtype \n",
      "---  ------                      --------------  ----- \n",
      " 0   username                    1175 non-null   object\n",
      " 1   rating                      1181 non-null   int64 \n",
      " 2   comments                    1181 non-null   object\n",
      " 3   label                       1181 non-null   int64 \n",
      " 4   comments_processed          1181 non-null   object\n",
      " 5   comments_clear_link         1181 non-null   object\n",
      " 6   comments_clear_punctuation  1181 non-null   object\n",
      " 7   comments_clear_special      1181 non-null   object\n",
      " 8   comments_cleaned            1181 non-null   object\n",
      " 9   comments_normalized         1181 non-null   object\n",
      " 10  clean_comments              1181 non-null   object\n",
      "dtypes: int64(2), object(9)\n",
      "memory usage: 110.7+ KB\n"
     ]
    }
   ],
   "source": [
    "data.info()"
   ]
  },
  {
   "cell_type": "markdown",
   "metadata": {},
   "source": [
    "* Kiểm tra mức độ cân bằng của tập dữ liệu"
   ]
  },
  {
   "cell_type": "code",
   "execution_count": 114,
   "metadata": {},
   "outputs": [
    {
     "name": "stdout",
     "output_type": "stream",
     "text": [
      "Phân bố các nhãn:\n",
      "label\n",
      " 1    1106\n",
      "-1      59\n",
      " 0      16\n",
      "Name: count, dtype: int64\n"
     ]
    },
    {
     "data": {
      "image/png": "[encoded data removed]",
      "text/plain": [
       "<Figure size 640x480 with 1 Axes>"
      ]
     },
     "metadata": {},
     "output_type": "display_data"
    }
   ],
   "source": [
    "import matplotlib.pyplot as plt\n",
    "\n",
    "# Kiểm tra phân bố nhãn trong cột 'label'\n",
    "label_counts = data['label'].value_counts()\n",
    "print(\"Phân bố các nhãn:\")\n",
    "print(label_counts)\n",
    "\n",
    "# Vẽ biểu đồ\n",
    "label_counts.plot(kind='bar', color='skyblue')\n",
    "plt.title(\"Phân bố nhãn trong tập dữ liệu\")\n",
    "plt.xlabel(\"Nhãn\")\n",
    "plt.ylabel(\"Số lượng\")\n",
    "plt.grid(axis='y', linestyle='--', alpha=0.7)\n",
    "plt.tight_layout()\n",
    "plt.show()\n"
   ]
  },
  {
   "cell_type": "code",
   "execution_count": 115,
   "metadata": {},
   "outputs": [
    {
     "data": {
      "image/png": "[encoded data removed]",
      "text/plain": [
       "<Figure size 1200x400 with 2 Axes>"
      ]
     },
     "metadata": {},
     "output_type": "display_data"
    }
   ],
   "source": [
    "import matplotlib.pyplot as plt\n",
    "\n",
    "# Lấy số lượng comment cho từng nhãn từ dữ liệu\n",
    "label_counts = data['label'].value_counts().sort_index()\n",
    "x = label_counts.tolist()                # Giá trị số lượng\n",
    "label = [f\"{i}: {'Non Toxic' if i == 0 else 'Toxic'}\" for i in label_counts.index]  # Nhãn tương ứng\n",
    "\n",
    "# Vẽ biểu đồ\n",
    "plt.figure(figsize=(12, 4))\n",
    "plt.suptitle('THỐNG KÊ SỐ LƯỢNG COMMENT ĐỘC (1) - KHÔNG ĐỘC (0)', fontsize=14)\n",
    "\n",
    "plt.subplot(1, 2, 1)\n",
    "plt.pie(x, labels=label, autopct='%.2f%%', colors=['#1E77B4', '#FF7F0F'][:len(x)])\n",
    "plt.title(\"Biểu đồ tròn\", fontsize=12)\n",
    "\n",
    "plt.subplot(1, 2, 2)\n",
    "plt.bar(label, x, color=['#1E77B4', '#FF7F0F'][:len(x)])\n",
    "plt.title(\"Biểu đồ cột\", fontsize=12)\n",
    "plt.ylabel(\"Số lượng\")\n",
    "plt.grid(axis='y', linestyle='--', alpha=0.7)\n",
    "\n",
    "plt.tight_layout()\n",
    "plt.show()\n"
   ]
  },
  {
   "cell_type": "markdown",
   "metadata": {},
   "source": [
    "=> Dữ liệu mất cân bằng"
   ]
  },
  {
   "cell_type": "markdown",
   "metadata": {},
   "source": [
    "# Chuẩn bị dữ liệu cho mô hình"
   ]
  },
  {
   "cell_type": "code",
   "execution_count": 116,
   "metadata": {},
   "outputs": [],
   "source": [
    "data.to_csv(\"processed_shopee_reviews.csv\", index=False)\n"
   ]
  },
  {
   "cell_type": "markdown",
   "metadata": {},
   "source": [
    "# Phân Tích Cảm Xúc Bình Luận Shopee bằng NLP"
   ]
  },
  {
   "cell_type": "markdown",
   "metadata": {},
   "source": [
    "* Biểu Diễn Dữ Liệu Thành Dạng Số"
   ]
  },
  {
   "cell_type": "markdown",
   "metadata": {},
   "source": [
    "Chuyển đổi văn bản thành vector\n",
    "\n",
    "Sử dụng TF-IDF để biểu diễn văn bản:"
   ]
  },
  {
   "cell_type": "code",
   "execution_count": 117,
   "metadata": {},
   "outputs": [],
   "source": [
    "from sklearn.feature_extraction.text import TfidfVectorizer\n",
    "\n",
    "# Khởi tạo vectorizer\n",
    "tfidf = TfidfVectorizer(max_features=5000)\n",
    "\n",
    "# Chuyển đổi văn bản thành vector\n",
    "X = tfidf.fit_transform(data[\"comments\"])\n",
    "y = data[\"label\"]\n"
   ]
  },
  {
   "cell_type": "markdown",
   "metadata": {},
   "source": [
    "* Huấn Luyện Mô Hình Machine Learning\n",
    "mô hình Logistic Regression để dự đoán cảm xúc."
   ]
  },
  {
   "cell_type": "markdown",
   "metadata": {},
   "source": [
    "Chia tập dữ liệu thành train/test"
   ]
  },
  {
   "cell_type": "code",
   "execution_count": 118,
   "metadata": {},
   "outputs": [],
   "source": [
    "from sklearn.model_selection import train_test_split\n",
    "\n",
    "X_train, X_test, y_train, y_test = train_test_split(X, y, test_size=0.2, random_state=42)\n"
   ]
  },
  {
   "cell_type": "code",
   "execution_count": 119,
   "metadata": {},
   "outputs": [
    {
     "data": {
      "text/html": [
       "<style>#sk-container-id-3 {\n",
       "  /* Definition of color scheme common for light and dark mode */\n",
       "  --sklearn-color-text: black;\n",
       "  --sklearn-color-line: gray;\n",
       "  /* Definition of color scheme for unfitted estimators */\n",
       "  --sklearn-color-unfitted-level-0: #fff5e6;\n",
       "  --sklearn-color-unfitted-level-1: #f6e4d2;\n",
       "  --sklearn-color-unfitted-level-2: #ffe0b3;\n",
       "  --sklearn-color-unfitted-level-3: chocolate;\n",
       "  /* Definition of color scheme for fitted estimators */\n",
       "  --sklearn-color-fitted-level-0: #f0f8ff;\n",
       "  --sklearn-color-fitted-level-1: #d4ebff;\n",
       "  --sklearn-color-fitted-level-2: #b3dbfd;\n",
       "  --sklearn-color-fitted-level-3: cornflowerblue;\n",
       "\n",
       "  /* Specific color for light theme */\n",
       "  --sklearn-color-text-on-default-background: var(--sg-text-color, var(--theme-code-foreground, var(--jp-content-font-color1, black)));\n",
       "  --sklearn-color-background: var(--sg-background-color, var(--theme-background, var(--jp-layout-color0, white)));\n",
       "  --sklearn-color-border-box: var(--sg-text-color, var(--theme-code-foreground, var(--jp-content-font-color1, black)));\n",
       "  --sklearn-color-icon: #696969;\n",
       "\n",
       "  @media (prefers-color-scheme: dark) {\n",
       "    /* Redefinition of color scheme for dark theme */\n",
       "    --sklearn-color-text-on-default-background: var(--sg-text-color, var(--theme-code-foreground, var(--jp-content-font-color1, white)));\n",
       "    --sklearn-color-background: var(--sg-background-color, var(--theme-background, var(--jp-layout-color0, #111)));\n",
       "    --sklearn-color-border-box: var(--sg-text-color, var(--theme-code-foreground, var(--jp-content-font-color1, white)));\n",
       "    --sklearn-color-icon: #878787;\n",
       "  }\n",
       "}\n",
       "\n",
       "#sk-container-id-3 {\n",
       "  color: var(--sklearn-color-text);\n",
       "}\n",
       "\n",
       "#sk-container-id-3 pre {\n",
       "  padding: 0;\n",
       "}\n",
       "\n",
       "#sk-container-id-3 input.sk-hidden--visually {\n",
       "  border: 0;\n",
       "  clip: rect(1px 1px 1px 1px);\n",
       "  clip: rect(1px, 1px, 1px, 1px);\n",
       "  height: 1px;\n",
       "  margin: -1px;\n",
       "  overflow: hidden;\n",
       "  padding: 0;\n",
       "  position: absolute;\n",
       "  width: 1px;\n",
       "}\n",
       "\n",
       "#sk-container-id-3 div.sk-dashed-wrapped {\n",
       "  border: 1px dashed var(--sklearn-color-line);\n",
       "  margin: 0 0.4em 0.5em 0.4em;\n",
       "  box-sizing: border-box;\n",
       "  padding-bottom: 0.4em;\n",
       "  background-color: var(--sklearn-color-background);\n",
       "}\n",
       "\n",
       "#sk-container-id-3 div.sk-container {\n",
       "  /* jupyter's `normalize.less` sets `[hidden] { display: none; }`\n",
       "     but bootstrap.min.css set `[hidden] { display: none !important; }`\n",
       "     so we also need the `!important` here to be able to override the\n",
       "     default hidden behavior on the sphinx rendered scikit-learn.org.\n",
       "     See: https://github.com/scikit-learn/scikit-learn/issues/21755 */\n",
       "  display: inline-block !important;\n",
       "  position: relative;\n",
       "}\n",
       "\n",
       "#sk-container-id-3 div.sk-text-repr-fallback {\n",
       "  display: none;\n",
       "}\n",
       "\n",
       "div.sk-parallel-item,\n",
       "div.sk-serial,\n",
       "div.sk-item {\n",
       "  /* draw centered vertical line to link estimators */\n",
       "  background-image: linear-gradient(var(--sklearn-color-text-on-default-background), var(--sklearn-color-text-on-default-background));\n",
       "  background-size: 2px 100%;\n",
       "  background-repeat: no-repeat;\n",
       "  background-position: center center;\n",
       "}\n",
       "\n",
       "/* Parallel-specific style estimator block */\n",
       "\n",
       "#sk-container-id-3 div.sk-parallel-item::after {\n",
       "  content: \"\";\n",
       "  width: 100%;\n",
       "  border-bottom: 2px solid var(--sklearn-color-text-on-default-background);\n",
       "  flex-grow: 1;\n",
       "}\n",
       "\n",
       "#sk-container-id-3 div.sk-parallel {\n",
       "  display: flex;\n",
       "  align-items: stretch;\n",
       "  justify-content: center;\n",
       "  background-color: var(--sklearn-color-background);\n",
       "  position: relative;\n",
       "}\n",
       "\n",
       "#sk-container-id-3 div.sk-parallel-item {\n",
       "  display: flex;\n",
       "  flex-direction: column;\n",
       "}\n",
       "\n",
       "#sk-container-id-3 div.sk-parallel-item:first-child::after {\n",
       "  align-self: flex-end;\n",
       "  width: 50%;\n",
       "}\n",
       "\n",
       "#sk-container-id-3 div.sk-parallel-item:last-child::after {\n",
       "  align-self: flex-start;\n",
       "  width: 50%;\n",
       "}\n",
       "\n",
       "#sk-container-id-3 div.sk-parallel-item:only-child::after {\n",
       "  width: 0;\n",
       "}\n",
       "\n",
       "/* Serial-specific style estimator block */\n",
       "\n",
       "#sk-container-id-3 div.sk-serial {\n",
       "  display: flex;\n",
       "  flex-direction: column;\n",
       "  align-items: center;\n",
       "  background-color: var(--sklearn-color-background);\n",
       "  padding-right: 1em;\n",
       "  padding-left: 1em;\n",
       "}\n",
       "\n",
       "\n",
       "/* Toggleable style: style used for estimator/Pipeline/ColumnTransformer box that is\n",
       "clickable and can be expanded/collapsed.\n",
       "- Pipeline and ColumnTransformer use this feature and define the default style\n",
       "- Estimators will overwrite some part of the style using the `sk-estimator` class\n",
       "*/\n",
       "\n",
       "/* Pipeline and ColumnTransformer style (default) */\n",
       "\n",
       "#sk-container-id-3 div.sk-toggleable {\n",
       "  /* Default theme specific background. It is overwritten whether we have a\n",
       "  specific estimator or a Pipeline/ColumnTransformer */\n",
       "  background-color: var(--sklearn-color-background);\n",
       "}\n",
       "\n",
       "/* Toggleable label */\n",
       "#sk-container-id-3 label.sk-toggleable__label {\n",
       "  cursor: pointer;\n",
       "  display: block;\n",
       "  width: 100%;\n",
       "  margin-bottom: 0;\n",
       "  padding: 0.5em;\n",
       "  box-sizing: border-box;\n",
       "  text-align: center;\n",
       "}\n",
       "\n",
       "#sk-container-id-3 label.sk-toggleable__label-arrow:before {\n",
       "  /* Arrow on the left of the label */\n",
       "  content: \"▸\";\n",
       "  float: left;\n",
       "  margin-right: 0.25em;\n",
       "  color: var(--sklearn-color-icon);\n",
       "}\n",
       "\n",
       "#sk-container-id-3 label.sk-toggleable__label-arrow:hover:before {\n",
       "  color: var(--sklearn-color-text);\n",
       "}\n",
       "\n",
       "/* Toggleable content - dropdown */\n",
       "\n",
       "#sk-container-id-3 div.sk-toggleable__content {\n",
       "  max-height: 0;\n",
       "  max-width: 0;\n",
       "  overflow: hidden;\n",
       "  text-align: left;\n",
       "  /* unfitted */\n",
       "  background-color: var(--sklearn-color-unfitted-level-0);\n",
       "}\n",
       "\n",
       "#sk-container-id-3 div.sk-toggleable__content.fitted {\n",
       "  /* fitted */\n",
       "  background-color: var(--sklearn-color-fitted-level-0);\n",
       "}\n",
       "\n",
       "#sk-container-id-3 div.sk-toggleable__content pre {\n",
       "  margin: 0.2em;\n",
       "  border-radius: 0.25em;\n",
       "  color: var(--sklearn-color-text);\n",
       "  /* unfitted */\n",
       "  background-color: var(--sklearn-color-unfitted-level-0);\n",
       "}\n",
       "\n",
       "#sk-container-id-3 div.sk-toggleable__content.fitted pre {\n",
       "  /* unfitted */\n",
       "  background-color: var(--sklearn-color-fitted-level-0);\n",
       "}\n",
       "\n",
       "#sk-container-id-3 input.sk-toggleable__control:checked~div.sk-toggleable__content {\n",
       "  /* Expand drop-down */\n",
       "  max-height: 200px;\n",
       "  max-width: 100%;\n",
       "  overflow: auto;\n",
       "}\n",
       "\n",
       "#sk-container-id-3 input.sk-toggleable__control:checked~label.sk-toggleable__label-arrow:before {\n",
       "  content: \"▾\";\n",
       "}\n",
       "\n",
       "/* Pipeline/ColumnTransformer-specific style */\n",
       "\n",
       "#sk-container-id-3 div.sk-label input.sk-toggleable__control:checked~label.sk-toggleable__label {\n",
       "  color: var(--sklearn-color-text);\n",
       "  background-color: var(--sklearn-color-unfitted-level-2);\n",
       "}\n",
       "\n",
       "#sk-container-id-3 div.sk-label.fitted input.sk-toggleable__control:checked~label.sk-toggleable__label {\n",
       "  background-color: var(--sklearn-color-fitted-level-2);\n",
       "}\n",
       "\n",
       "/* Estimator-specific style */\n",
       "\n",
       "/* Colorize estimator box */\n",
       "#sk-container-id-3 div.sk-estimator input.sk-toggleable__control:checked~label.sk-toggleable__label {\n",
       "  /* unfitted */\n",
       "  background-color: var(--sklearn-color-unfitted-level-2);\n",
       "}\n",
       "\n",
       "#sk-container-id-3 div.sk-estimator.fitted input.sk-toggleable__control:checked~label.sk-toggleable__label {\n",
       "  /* fitted */\n",
       "  background-color: var(--sklearn-color-fitted-level-2);\n",
       "}\n",
       "\n",
       "#sk-container-id-3 div.sk-label label.sk-toggleable__label,\n",
       "#sk-container-id-3 div.sk-label label {\n",
       "  /* The background is the default theme color */\n",
       "  color: var(--sklearn-color-text-on-default-background);\n",
       "}\n",
       "\n",
       "/* On hover, darken the color of the background */\n",
       "#sk-container-id-3 div.sk-label:hover label.sk-toggleable__label {\n",
       "  color: var(--sklearn-color-text);\n",
       "  background-color: var(--sklearn-color-unfitted-level-2);\n",
       "}\n",
       "\n",
       "/* Label box, darken color on hover, fitted */\n",
       "#sk-container-id-3 div.sk-label.fitted:hover label.sk-toggleable__label.fitted {\n",
       "  color: var(--sklearn-color-text);\n",
       "  background-color: var(--sklearn-color-fitted-level-2);\n",
       "}\n",
       "\n",
       "/* Estimator label */\n",
       "\n",
       "#sk-container-id-3 div.sk-label label {\n",
       "  font-family: monospace;\n",
       "  font-weight: bold;\n",
       "  display: inline-block;\n",
       "  line-height: 1.2em;\n",
       "}\n",
       "\n",
       "#sk-container-id-3 div.sk-label-container {\n",
       "  text-align: center;\n",
       "}\n",
       "\n",
       "/* Estimator-specific */\n",
       "#sk-container-id-3 div.sk-estimator {\n",
       "  font-family: monospace;\n",
       "  border: 1px dotted var(--sklearn-color-border-box);\n",
       "  border-radius: 0.25em;\n",
       "  box-sizing: border-box;\n",
       "  margin-bottom: 0.5em;\n",
       "  /* unfitted */\n",
       "  background-color: var(--sklearn-color-unfitted-level-0);\n",
       "}\n",
       "\n",
       "#sk-container-id-3 div.sk-estimator.fitted {\n",
       "  /* fitted */\n",
       "  background-color: var(--sklearn-color-fitted-level-0);\n",
       "}\n",
       "\n",
       "/* on hover */\n",
       "#sk-container-id-3 div.sk-estimator:hover {\n",
       "  /* unfitted */\n",
       "  background-color: var(--sklearn-color-unfitted-level-2);\n",
       "}\n",
       "\n",
       "#sk-container-id-3 div.sk-estimator.fitted:hover {\n",
       "  /* fitted */\n",
       "  background-color: var(--sklearn-color-fitted-level-2);\n",
       "}\n",
       "\n",
       "/* Specification for estimator info (e.g. \"i\" and \"?\") */\n",
       "\n",
       "/* Common style for \"i\" and \"?\" */\n",
       "\n",
       ".sk-estimator-doc-link,\n",
       "a:link.sk-estimator-doc-link,\n",
       "a:visited.sk-estimator-doc-link {\n",
       "  float: right;\n",
       "  font-size: smaller;\n",
       "  line-height: 1em;\n",
       "  font-family: monospace;\n",
       "  background-color: var(--sklearn-color-background);\n",
       "  border-radius: 1em;\n",
       "  height: 1em;\n",
       "  width: 1em;\n",
       "  text-decoration: none !important;\n",
       "  margin-left: 1ex;\n",
       "  /* unfitted */\n",
       "  border: var(--sklearn-color-unfitted-level-1) 1pt solid;\n",
       "  color: var(--sklearn-color-unfitted-level-1);\n",
       "}\n",
       "\n",
       ".sk-estimator-doc-link.fitted,\n",
       "a:link.sk-estimator-doc-link.fitted,\n",
       "a:visited.sk-estimator-doc-link.fitted {\n",
       "  /* fitted */\n",
       "  border: var(--sklearn-color-fitted-level-1) 1pt solid;\n",
       "  color: var(--sklearn-color-fitted-level-1);\n",
       "}\n",
       "\n",
       "/* On hover */\n",
       "div.sk-estimator:hover .sk-estimator-doc-link:hover,\n",
       ".sk-estimator-doc-link:hover,\n",
       "div.sk-label-container:hover .sk-estimator-doc-link:hover,\n",
       ".sk-estimator-doc-link:hover {\n",
       "  /* unfitted */\n",
       "  background-color: var(--sklearn-color-unfitted-level-3);\n",
       "  color: var(--sklearn-color-background);\n",
       "  text-decoration: none;\n",
       "}\n",
       "\n",
       "div.sk-estimator.fitted:hover .sk-estimator-doc-link.fitted:hover,\n",
       ".sk-estimator-doc-link.fitted:hover,\n",
       "div.sk-label-container:hover .sk-estimator-doc-link.fitted:hover,\n",
       ".sk-estimator-doc-link.fitted:hover {\n",
       "  /* fitted */\n",
       "  background-color: var(--sklearn-color-fitted-level-3);\n",
       "  color: var(--sklearn-color-background);\n",
       "  text-decoration: none;\n",
       "}\n",
       "\n",
       "/* Span, style for the box shown on hovering the info icon */\n",
       ".sk-estimator-doc-link span {\n",
       "  display: none;\n",
       "  z-index: 9999;\n",
       "  position: relative;\n",
       "  font-weight: normal;\n",
       "  right: .2ex;\n",
       "  padding: .5ex;\n",
       "  margin: .5ex;\n",
       "  width: min-content;\n",
       "  min-width: 20ex;\n",
       "  max-width: 50ex;\n",
       "  color: var(--sklearn-color-text);\n",
       "  box-shadow: 2pt 2pt 4pt #999;\n",
       "  /* unfitted */\n",
       "  background: var(--sklearn-color-unfitted-level-0);\n",
       "  border: .5pt solid var(--sklearn-color-unfitted-level-3);\n",
       "}\n",
       "\n",
       ".sk-estimator-doc-link.fitted span {\n",
       "  /* fitted */\n",
       "  background: var(--sklearn-color-fitted-level-0);\n",
       "  border: var(--sklearn-color-fitted-level-3);\n",
       "}\n",
       "\n",
       ".sk-estimator-doc-link:hover span {\n",
       "  display: block;\n",
       "}\n",
       "\n",
       "/* \"?\"-specific style due to the `<a>` HTML tag */\n",
       "\n",
       "#sk-container-id-3 a.estimator_doc_link {\n",
       "  float: right;\n",
       "  font-size: 1rem;\n",
       "  line-height: 1em;\n",
       "  font-family: monospace;\n",
       "  background-color: var(--sklearn-color-background);\n",
       "  border-radius: 1rem;\n",
       "  height: 1rem;\n",
       "  width: 1rem;\n",
       "  text-decoration: none;\n",
       "  /* unfitted */\n",
       "  color: var(--sklearn-color-unfitted-level-1);\n",
       "  border: var(--sklearn-color-unfitted-level-1) 1pt solid;\n",
       "}\n",
       "\n",
       "#sk-container-id-3 a.estimator_doc_link.fitted {\n",
       "  /* fitted */\n",
       "  border: var(--sklearn-color-fitted-level-1) 1pt solid;\n",
       "  color: var(--sklearn-color-fitted-level-1);\n",
       "}\n",
       "\n",
       "/* On hover */\n",
       "#sk-container-id-3 a.estimator_doc_link:hover {\n",
       "  /* unfitted */\n",
       "  background-color: var(--sklearn-color-unfitted-level-3);\n",
       "  color: var(--sklearn-color-background);\n",
       "  text-decoration: none;\n",
       "}\n",
       "\n",
       "#sk-container-id-3 a.estimator_doc_link.fitted:hover {\n",
       "  /* fitted */\n",
       "  background-color: var(--sklearn-color-fitted-level-3);\n",
       "}\n",
       "</style><div id=\"sk-container-id-3\" class=\"sk-top-container\"><div class=\"sk-text-repr-fallback\"><pre>LogisticRegression()</pre><b>In a Jupyter environment, please rerun this cell to show the HTML representation or trust the notebook. <br />On GitHub, the HTML representation is unable to render, please try loading this page with nbviewer.org.</b></div><div class=\"sk-container\" hidden><div class=\"sk-item\"><div class=\"sk-estimator fitted sk-toggleable\"><input class=\"sk-toggleable__control sk-hidden--visually\" id=\"sk-estimator-id-3\" type=\"checkbox\" checked><label for=\"sk-estimator-id-3\" class=\"sk-toggleable__label fitted sk-toggleable__label-arrow fitted\">&nbsp;&nbsp;LogisticRegression<a class=\"sk-estimator-doc-link fitted\" rel=\"noreferrer\" target=\"_blank\" href=\"https://scikit-learn.org/1.4/modules/generated/sklearn.linear_model.LogisticRegression.html\">?<span>Documentation for LogisticRegression</span></a><span class=\"sk-estimator-doc-link fitted\">i<span>Fitted</span></span></label><div class=\"sk-toggleable__content fitted\"><pre>LogisticRegression()</pre></div> </div></div></div></div>"
      ],
      "text/plain": [
       "LogisticRegression()"
      ]
     },
     "execution_count": 119,
     "metadata": {},
     "output_type": "execute_result"
    }
   ],
   "source": [
    "from sklearn.linear_model import LogisticRegression\n",
    "\n",
    "# Khởi tạo mô hình\n",
    "model = LogisticRegression()\n",
    "\n",
    "# Huấn luyện\n",
    "model.fit(X_train, y_train)\n"
   ]
  },
  {
   "cell_type": "markdown",
   "metadata": {},
   "source": [
    "# Đánh Giá Mô Hình\n",
    "* Dự đoán trên tập test"
   ]
  },
  {
   "cell_type": "code",
   "execution_count": 120,
   "metadata": {},
   "outputs": [],
   "source": [
    "y_pred = model.predict(X_test)\n"
   ]
  },
  {
   "cell_type": "markdown",
   "metadata": {},
   "source": [
    "* Tính độ chính xác"
   ]
  },
  {
   "cell_type": "code",
   "execution_count": 121,
   "metadata": {},
   "outputs": [
    {
     "name": "stdout",
     "output_type": "stream",
     "text": [
      "Độ chính xác: 0.94 ~ 94.09%\n",
      "Báo cáo phân loại:\n",
      "              precision    recall  f1-score   support\n",
      "\n",
      "          -1       1.00      0.15      0.27        13\n",
      "           0       0.00      0.00      0.00         3\n",
      "           1       0.94      1.00      0.97       221\n",
      "\n",
      "    accuracy                           0.94       237\n",
      "   macro avg       0.65      0.38      0.41       237\n",
      "weighted avg       0.93      0.94      0.92       237\n",
      "\n"
     ]
    }
   ],
   "source": [
    "from sklearn.model_selection import train_test_split\n",
    "from sklearn.metrics import accuracy_score, classification_report\n",
    "from sklearn.ensemble import RandomForestClassifier\n",
    "\n",
    "X_train, X_test, y_train, y_test = train_test_split(X, y, test_size=0.2, random_state=42)\n",
    "\n",
    "# Huấn luyện mô hình\n",
    "model = RandomForestClassifier()\n",
    "model.fit(X_train, y_train)\n",
    "\n",
    "# Dự đoán\n",
    "y_pred = model.predict(X_test)\n",
    "\n",
    "# Tính toán độ chính xác\n",
    "accuracy = accuracy_score(y_test, y_pred)\n",
    "print(f\"Độ chính xác: {accuracy:.2f} ~ {round(accuracy * 100, 2)}%\")\n",
    "\n",
    "# Báo cáo phân loại\n",
    "print(\"Báo cáo phân loại:\")\n",
    "print(classification_report(y_test, y_pred))\n"
   ]
  },
  {
   "cell_type": "markdown",
   "metadata": {},
   "source": [
    "dựa vào đánh giá mô hinh ta thấy"
   ]
  },
  {
   "cell_type": "markdown",
   "metadata": {},
   "source": [
    "* Dự Đoán Cảm Xúc Cho Bình Luận Mới"
   ]
  },
  {
   "cell_type": "code",
   "execution_count": 122,
   "metadata": {},
   "outputs": [
    {
     "name": "stdout",
     "output_type": "stream",
     "text": [
      "Tích cực\n"
     ]
    }
   ],
   "source": [
    "def predict_sentiment(comment):\n",
    "    comment_vector = tfidf.transform([comment])  # Chuyển đổi thành vector\n",
    "    prediction = model.predict(comment_vector)[0]  # Dự đoán\n",
    "    return \"Tích cực\" if prediction == 1 else \"Tiêu cực\"\n",
    "\n",
    "# Thử nghiệm\n",
    "new_comment = \"Sản phẩm không tốt, giao hàng chậm\"\n",
    "print(predict_sentiment(new_comment))\n"
   ]
  },
  {
   "cell_type": "markdown",
   "metadata": {},
   "source": [
    "* Lưu và Tải Mô Hình"
   ]
  },
  {
   "cell_type": "code",
   "execution_count": 123,
   "metadata": {},
   "outputs": [],
   "source": [
    "# Hàm dự đoán nhãn cho một danh sách các bình luận\n",
    "def predict_comments(comments):\n",
    "    # Chuyển đổi danh sách bình luận thành vector\n",
    "    comments_vector = tfidf.transform(comments)\n",
    "    # Dự đoán nhãn cho từng bình luận\n",
    "    predictions = model.predict(comments_vector)\n",
    "    return [\"Tích cực\" if pred == 1 else \"Tiêu cực\" for pred in predictions]    "
   ]
  },
  {
   "cell_type": "code",
   "execution_count": 124,
   "metadata": {},
   "outputs": [],
   "source": [
    "import joblib\n",
    "\n",
    "# Lưu mô hình và vectorizer\n",
    "joblib.dump(model, \"sentiment_model.pkl\")\n",
    "joblib.dump(tfidf, \"tfidf_vectorizer.pkl\")\n",
    "# Tải mô hình và vectorizer\n",
    "loaded_model = joblib.load(\"sentiment_model.pkl\")"
   ]
  },
  {
   "cell_type": "code",
   "execution_count": 125,
   "metadata": {},
   "outputs": [
    {
     "name": "stdout",
     "output_type": "stream",
     "text": [
      "Tích cực\n",
      "Tích cực\n"
     ]
    }
   ],
   "source": [
    "# Tải mô hình\n",
    "model = joblib.load(\"sentiment_model.pkl\")\n",
    "tfidf = joblib.load(\"tfidf_vectorizer.pkl\")\n",
    "\n",
    "# Dự đoán bình luận mới\n",
    "print(predict_sentiment(\"Chất lượng rất tuyệt vời\"))\n",
    "print(predict_sentiment(\"Sản phẩm không như mong đợi\"))\n",
    "# Dự đoán cho một danh sách bình luận   "
   ]
  },
  {
   "cell_type": "code",
   "execution_count": 128,
   "metadata": {},
   "outputs": [
    {
     "name": "stdout",
     "output_type": "stream",
     "text": [
      "'Sản phẩm quá tệ, giao hàng chậm và nhân viên không hỗ trợ.' --> TOXIC\n",
      "'Mình rất hài lòng, hàng đẹp như hình!' --> TOXIC\n",
      "'Thái độ nhân viên vô cùng khó chịu.' --> TOXIC\n",
      "'Sản phẩm dùng ổn, sẽ ủng hộ lần sau.' --> TOXIC\n",
      "'Sản phẩm quá tệ, giao hàng chậm và nhân viên không hỗ trợ.' --> TOXIC\n",
      "'Mình rất hài lòng, hàng đẹp như hình!' --> TOXIC\n",
      "'Thái độ nhân viên vô cùng khó chịu.' --> TOXIC\n",
      "'Sản phẩm dùng ổn, sẽ ủng hộ lần sau.' --> TOXIC\n"
     ]
    }
   ],
   "source": [
    "import re\n",
    "import string  # DÒNG QUAN TRỌNG ĐÃ THÊM\n",
    "\n",
    "# Danh sách bình luận mới\n",
    "new_comments = [\n",
    "    \"Sản phẩm quá tệ, giao hàng chậm và nhân viên không hỗ trợ.\",\n",
    "    \"Mình rất hài lòng, hàng đẹp như hình!\",\n",
    "    \"Thái độ nhân viên vô cùng khó chịu.\",\n",
    "    \"Sản phẩm dùng ổn, sẽ ủng hộ lần sau.\"\n",
    "]\n",
    "\n",
    "# Hàm làm sạch\n",
    "def clean_text(text):\n",
    "    text = str(text).lower()\n",
    "    text = re.sub(r'https?://\\S+|www\\.\\S+', '', text)\n",
    "    text = re.sub(r'<.*?>', '', text)\n",
    "    text = re.sub(r'[%s]' % re.escape(string.punctuation), '', text)\n",
    "    text = re.sub(r'\\n', ' ', text)\n",
    "    text = re.sub(r'\\w*\\d\\w*', '', text)\n",
    "    return text\n",
    "\n",
    "# Làm sạch bình luận mới\n",
    "cleaned_comments = [clean_text(comment) for comment in new_comments]\n",
    "\n",
    "# Vector hóa và dự đoán\n",
    "X_new = tfidf.transform(cleaned_comments)\n",
    "predictions = model.predict(X_new)\n",
    "\n",
    "# In kết quả\n",
    "for comment, label in zip(new_comments, predictions):\n",
    "    print(f\"'{comment}' --> {'TOXIC' if label == 1 else 'NON-TOXIC'}\")\n",
    "# In ra các nhãn dự đoán\n",
    "for comment, label in zip(new_comments, predictions):\n",
    "    print(f\"'{comment}' --> {'TOXIC' if label == 1 else 'NON-TOXIC'}\")  "
   ]
  }
 ],
 "metadata": {
  "kernelspec": {
   "display_name": "Python 3",
   "language": "python",
   "name": "python3"
  },
  "language_info": {
   "codemirror_mode": {
    "name": "ipython",
    "version": 3
   },
   "file_extension": ".py",
   "mimetype": "text/x-python",
   "name": "python",
   "nbconvert_exporter": "python",
   "pygments_lexer": "ipython3",
   "version": "3.10.8"
  }
 },
 "nbformat": 4,
 "nbformat_minor": 2
}
